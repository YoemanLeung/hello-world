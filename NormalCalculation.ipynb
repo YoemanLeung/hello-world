{
 "cells": [
  {
   "cell_type": "code",
   "execution_count": 30,
   "metadata": {
    "collapsed": true
   },
   "outputs": [],
   "source": [
    "%matplotlib inline\n",
    "import numpy as np\n",
    "from astropy.cosmology import Planck15 as cosmo\n",
    "from astropy import constants as c, units as u\n",
    "from sympy import Function, Symbol, dsolve\n",
    "import math as m"
   ]
  },
  {
   "cell_type": "code",
   "execution_count": 14,
   "metadata": {},
   "outputs": [
    {
     "name": "stdout",
     "output_type": "stream",
     "text": [
      "6.647715411454347e-11\n"
     ]
    }
   ],
   "source": [
    "a = 1/(1.68*(np.pi**2)) * ((np.pi/(3600*180))/(0.5**(-0.2)))**(5/3)\n",
    "print(a)"
   ]
  },
  {
   "cell_type": "code",
   "execution_count": 48,
   "metadata": {},
   "outputs": [
    {
     "name": "stdout",
     "output_type": "stream",
     "text": [
      "3.3980400419443184e-08\n"
     ]
    }
   ],
   "source": [
    "b = 1**(-0.2) * (1.68 * np.pi**2 * 2.15*10**(-14))**0.6\n",
    "print(b)"
   ]
  },
  {
   "cell_type": "code",
   "execution_count": 50,
   "metadata": {},
   "outputs": [
    {
     "data": {
      "text/plain": [
       "0.0070089607087152001"
      ]
     },
     "execution_count": 50,
     "metadata": {},
     "output_type": "execute_result"
    }
   ],
   "source": [
    "np.degrees(b) * 3600"
   ]
  },
  {
   "cell_type": "code",
   "execution_count": 47,
   "metadata": {},
   "outputs": [
    {
     "data": {
      "text/latex": [
       "$2.1544347 \\times 10^{-14} \\; \\mathrm{\\mu m^{1/3}}$"
      ],
      "text/plain": [
       "<Quantity 2.1544346900318838e-14 um(1/3)>"
      ]
     },
     "execution_count": 47,
     "metadata": {},
     "output_type": "execute_result"
    }
   ],
   "source": [
    "(0.01 * 10**(-13) * u.cm**(1/3)).to(u.um**(1/3))"
   ]
  },
  {
   "cell_type": "code",
   "execution_count": 43,
   "metadata": {},
   "outputs": [
    {
     "data": {
      "text/latex": [
       "$21.544347 \\; \\mathrm{\\mu m^{1/3}}$"
      ],
      "text/plain": [
       "<Quantity 21.544346900318835 um(1/3)>"
      ]
     },
     "execution_count": 43,
     "metadata": {},
     "output_type": "execute_result"
    }
   ],
   "source": [
    "x= 1 * u.cm**(1/3) \n",
    "x.to(u.um**(1/3))"
   ]
  },
  {
   "cell_type": "code",
   "execution_count": 52,
   "metadata": {},
   "outputs": [
    {
     "data": {
      "text/plain": [
       "17.188733853924695"
      ]
     },
     "execution_count": 52,
     "metadata": {},
     "output_type": "execute_result"
    }
   ],
   "source": [
    "180*3600/np.pi/12000"
   ]
  },
  {
   "cell_type": "code",
   "execution_count": 65,
   "metadata": {},
   "outputs": [
    {
     "data": {
      "text/latex": [
       "$4.12 \\; \\mathrm{{}^{\\prime}}$"
      ],
      "text/plain": [
       "<Quantity 4.12 arcmin>"
      ]
     },
     "execution_count": 65,
     "metadata": {},
     "output_type": "execute_result"
    }
   ],
   "source": [
    "(206*15/100000 *8000* u.arcsec).to(u.arcmin)"
   ]
  },
  {
   "cell_type": "code",
   "execution_count": 63,
   "metadata": {},
   "outputs": [
    {
     "data": {
      "text/plain": [
       "100.03999999999999"
      ]
     },
     "execution_count": 63,
     "metadata": {},
     "output_type": "execute_result"
    }
   ],
   "source": [
    "12.2*8.2"
   ]
  },
  {
   "cell_type": "code",
   "execution_count": 78,
   "metadata": {},
   "outputs": [
    {
     "data": {
      "text/latex": [
       "$0.025851991 \\; \\mathrm{\\frac{J}{K}}$"
      ],
      "text/plain": [
       "<Quantity 0.025851991011651636 J / K>"
      ]
     },
     "execution_count": 78,
     "metadata": {},
     "output_type": "execute_result"
    }
   ],
   "source": [
    "c.k_B *300 * u.J.to(u.eV)"
   ]
  },
  {
   "cell_type": "code",
   "execution_count": 79,
   "metadata": {},
   "outputs": [
    {
     "data": {
      "text/plain": [
       "21.153846153846157"
      ]
     },
     "execution_count": 79,
     "metadata": {},
     "output_type": "execute_result"
    }
   ],
   "source": [
    "0.55/0.026"
   ]
  },
  {
   "cell_type": "code",
   "execution_count": 100,
   "metadata": {},
   "outputs": [
    {
     "data": {
      "text/latex": [
       "$3.7782196 \\times 10^{-12} \\; \\mathrm{\\frac{kg^{3/2}}{J^{3/2}\\,s^{3}}}$"
      ],
      "text/plain": [
       "<Quantity 3.778219625824974e-12 kg(3/2) / (J(3/2) s3)>"
      ]
     },
     "execution_count": 100,
     "metadata": {},
     "output_type": "execute_result"
    }
   ],
   "source": [
    "2* ((2*np.pi*1.1*c.m_e*c.k_B*77*u.Kelvin)/(c.h**2))**(3/2) * np.exp(-0.55*u.eV/(c.k_B*77*u.Kelvin))"
   ]
  },
  {
   "cell_type": "code",
   "execution_count": 110,
   "metadata": {
    "collapsed": true
   },
   "outputs": [],
   "source": [
    "from scipy.optimize import fsolve\n",
    "fsolve?"
   ]
  },
  {
   "cell_type": "code",
   "execution_count": 107,
   "metadata": {},
   "outputs": [
    {
     "data": {
      "text/latex": [
       "$9315 \\; \\mathrm{}$"
      ],
      "text/plain": [
       "<Quantity 9314.999999999995>"
      ]
     },
     "execution_count": 107,
     "metadata": {},
     "output_type": "execute_result"
    }
   ],
   "source": [
    "(1.38*10**10*u.cm**(-3)).to(u.um**(-3))*15*u.um*15*u.um*300*u.um/0.1"
   ]
  },
  {
   "cell_type": "code",
   "execution_count": 149,
   "metadata": {},
   "outputs": [
    {
     "data": {
      "text/plain": [
       "148148.14814814818"
      ]
     },
     "execution_count": 149,
     "metadata": {},
     "output_type": "execute_result"
    }
   ],
   "source": [
    "(2*0.1*0.05)/(15*15*300)*10**12"
   ]
  },
  {
   "cell_type": "code",
   "execution_count": 164,
   "metadata": {},
   "outputs": [
    {
     "name": "stdout",
     "output_type": "stream",
     "text": [
      "[ 197.7121919]\n"
     ]
    },
    {
     "data": {
      "text/latex": [
       "$3.7782196 \\times 10^{-18} \\; \\mathrm{\\frac{1}{cm^{3}}}$"
      ],
      "text/plain": [
       "<Quantity 3.778219625824975e-18 1 / cm3>"
      ]
     },
     "execution_count": 164,
     "metadata": {},
     "output_type": "execute_result"
    }
   ],
   "source": [
    "from scipy.optimize import fsolve\n",
    "def f1(x):\n",
    "    return 2* ((2*np.pi*1.1*c.m_e*c.k_B*x*u.Kelvin)/(c.h**2))**(3/2) * np.exp(-0.55*u.eV/(c.k_B*x*u.Kelvin))\n",
    "def f2(x):\n",
    "    return 2* ((2*np.pi*1.1*c.m_e*c.k_B*x*u.Kelvin)/(c.h**2))**(3/2) * np.exp(-0.55*u.eV/(c.k_B*x*u.Kelvin)) - 1.48*10**5*u.cm**(-3)   \n",
    "root=fsolve(f2, 200)\n",
    "print(root)\n",
    "f1(77).to(u.cm**(-3))"
   ]
  },
  {
   "cell_type": "code",
   "execution_count": 118,
   "metadata": {},
   "outputs": [
    {
     "name": "stdout",
     "output_type": "stream",
     "text": [
      "  Name   = Planck constant\n",
      "  Value  = 6.62607004e-34\n",
      "  Uncertainty  = 8.1e-42\n",
      "  Unit  = J s\n",
      "  Reference = CODATA 2014   Name   = Electron mass\n",
      "  Value  = 9.10938356e-31\n",
      "  Uncertainty  = 1.1e-38\n",
      "  Unit  = kg\n",
      "  Reference = CODATA 2014   Name   = Boltzmann constant\n",
      "  Value  = 1.38064852e-23\n",
      "  Uncertainty  = 7.9e-30\n",
      "  Unit  = J / K\n",
      "  Reference = CODATA 2014\n"
     ]
    }
   ],
   "source": [
    "print(c.h,c.m_e,c.k_B)"
   ]
  },
  {
   "cell_type": "code",
   "execution_count": 119,
   "metadata": {},
   "outputs": [
    {
     "data": {
      "text/plain": [
       "9.10938356e-31"
      ]
     },
     "execution_count": 119,
     "metadata": {},
     "output_type": "execute_result"
    }
   ],
   "source": [
    "c.m_e.value"
   ]
  },
  {
   "cell_type": "code",
   "execution_count": 262,
   "metadata": {},
   "outputs": [
    {
     "data": {
      "text/plain": [
       "array([ 25.95506078])"
      ]
     },
     "execution_count": 262,
     "metadata": {},
     "output_type": "execute_result"
    }
   ],
   "source": [
    "def Omega(d, H, F):\n",
    "    return (np.pi*d/(2*H)) * (d/H + np.sqrt(2)/F)\n",
    "Omega = Omega(37.9*u.mm, 20*u.cm, 12)*0.1\n",
    "\n",
    "def Bright(lam, T):\n",
    "    return (1.191*10**8)/(lam**5*(np.exp(14387.7/(lam*T))-1))\n",
    "\n",
    "def Fth(Ang, B, dlam):\n",
    "    return Ang * (18.5*10**(-6))**2 * B * dlam \n",
    "\n",
    "def Energy(lam):\n",
    "    return (c.h*c.c/(2.2*u.um)).to(u.J).value\n",
    "\n",
    "def Num(Fth, Energy):\n",
    "    return Fth/Energy\n",
    "\n",
    "def ForTemp(T):\n",
    "    step = 0.1\n",
    "    sumup = 0\n",
    "    for x in np.arange(5, 28, step):\n",
    "        sumup += Num(Fth(Omega.value, Bright(x+0.5*step, T), step), Energy(x+0.5*step))\n",
    "    return sumup-10\n",
    "\n",
    "root1=fsolve(ForTemp, 100)\n",
    "root1"
   ]
  },
  {
   "cell_type": "code",
   "execution_count": 234,
   "metadata": {},
   "outputs": [
    {
     "data": {
      "text/plain": [
       "9.1208977976825091e-05"
      ]
     },
     "execution_count": 234,
     "metadata": {},
     "output_type": "execute_result"
    }
   ],
   "source": [
    "def Bright(lam, T):\n",
    "    return (1.191*10**8)/(lam**5*(np.exp(14387.7/(lam*T))-1))"
   ]
  },
  {
   "cell_type": "code",
   "execution_count": 235,
   "metadata": {
    "collapsed": true
   },
   "outputs": [],
   "source": [
    "def Fth(Ang, B, dlam):\n",
    "    return Ang * (18.5*10**(-6))**2 * B * dlam "
   ]
  },
  {
   "cell_type": "code",
   "execution_count": 236,
   "metadata": {
    "collapsed": true
   },
   "outputs": [],
   "source": [
    "def Energy(lam):\n",
    "    return (c.h*c.c/(2.2*u.um)).to(u.J).value"
   ]
  },
  {
   "cell_type": "code",
   "execution_count": 237,
   "metadata": {
    "collapsed": true
   },
   "outputs": [],
   "source": [
    "def Num(Fth, Energy):\n",
    "    return Fth/Energy"
   ]
  },
  {
   "cell_type": "code",
   "execution_count": 240,
   "metadata": {},
   "outputs": [
    {
     "data": {
      "text/plain": [
       "14867.625778949088"
      ]
     },
     "execution_count": 240,
     "metadata": {},
     "output_type": "execute_result"
    }
   ],
   "source": [
    "Num(Fth(Omega.value, Bright(2.05, 273), 0.05), Energy(2.05)) + \\\n",
    "Num(Fth(Omega.value, Bright(2.10, 273), 0.05), Energy(2.10)) + \\\n",
    "Num(Fth(Omega.value, Bright(2.15, 273), 0.05), Energy(2.15)) + \\\n",
    "Num(Fth(Omega.value, Bright(2.20, 273), 0.05), Energy(2.20)) + \\\n",
    "Num(Fth(Omega.value, Bright(2.25, 273), 0.05), Energy(2.25)) + \\\n",
    "Num(Fth(Omega.value, Bright(2.30, 273), 0.05), Energy(2.30)) + \\\n",
    "Num(Fth(Omega.value, Bright(2.35, 273), 0.05), Energy(2.35))"
   ]
  },
  {
   "cell_type": "code",
   "execution_count": 259,
   "metadata": {},
   "outputs": [
    {
     "data": {
      "text/plain": [
       "array([ 25.95506078])"
      ]
     },
     "execution_count": 259,
     "metadata": {},
     "output_type": "execute_result"
    }
   ],
   "source": [
    "def devide(T):\n",
    "    step = 0.1\n",
    "    sumup = 0\n",
    "    for x in np.arange(5, 28, step):\n",
    "#        print(x)\n",
    "        sumup += Num(Fth(Omega.value, Bright(x+0.5*step, T), step), Energy(x+0.5*step))\n",
    "    return sumup-10\n",
    "#devide(273)\n",
    "root2=fsolve(devide, 100)\n",
    "root2"
   ]
  },
  {
   "cell_type": "code",
   "execution_count": null,
   "metadata": {
    "collapsed": true
   },
   "outputs": [],
   "source": []
  },
  {
   "cell_type": "code",
   "execution_count": 35,
   "metadata": {},
   "outputs": [
    {
     "name": "stdout",
     "output_type": "stream",
     "text": [
      "0.6818932575209945\n"
     ]
    }
   ],
   "source": [
    "K=25*u.Angstrom *(1+2.4) * c.c /(4140*u.Angstrom)**2\n",
    "dB = c.c/(3700*u.Angstrom) - c.c/(4800*u.Angstrom)\n",
    "dN = c.c/((4140-0.5*83)*u.Angstrom) - c.c/((4140+0.5*83)*u.Angstrom)\n",
    "print(-2.5*np.log10(((K+dB)*dN)/((K+dN)*dB)))"
   ]
  },
  {
   "cell_type": "code",
   "execution_count": null,
   "metadata": {
    "collapsed": true
   },
   "outputs": [],
   "source": []
  }
 ],
 "metadata": {
  "kernelspec": {
   "display_name": "Python 3",
   "language": "python",
   "name": "python3"
  },
  "language_info": {
   "codemirror_mode": {
    "name": "ipython",
    "version": 3
   },
   "file_extension": ".py",
   "mimetype": "text/x-python",
   "name": "python",
   "nbconvert_exporter": "python",
   "pygments_lexer": "ipython3",
   "version": "3.6.3"
  }
 },
 "nbformat": 4,
 "nbformat_minor": 2
}
